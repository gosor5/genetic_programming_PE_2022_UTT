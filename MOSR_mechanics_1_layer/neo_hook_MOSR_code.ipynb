{
 "cells": [
  {
   "cell_type": "code",
   "execution_count": 1,
   "metadata": {},
   "outputs": [
    {
     "name": "stdout",
     "output_type": "stream",
     "text": [
      "Requirement already satisfied: pyglyph in /Library/Frameworks/Python.framework/Versions/3.10/lib/python3.10/site-packages (0.5.3)\n",
      "Requirement already satisfied: stopit in /Library/Frameworks/Python.framework/Versions/3.10/lib/python3.10/site-packages (from pyglyph) (1.1.2)\n",
      "Requirement already satisfied: deap in /Library/Frameworks/Python.framework/Versions/3.10/lib/python3.10/site-packages (from pyglyph) (1.3.1)\n",
      "Requirement already satisfied: dill in /Library/Frameworks/Python.framework/Versions/3.10/lib/python3.10/site-packages (from pyglyph) (0.3.4)\n",
      "Requirement already satisfied: deprecated in /Library/Frameworks/Python.framework/Versions/3.10/lib/python3.10/site-packages (from pyglyph) (1.2.13)\n",
      "Requirement already satisfied: toolz in /Library/Frameworks/Python.framework/Versions/3.10/lib/python3.10/site-packages (from pyglyph) (0.11.2)\n",
      "Requirement already satisfied: numpy in /Library/Frameworks/Python.framework/Versions/3.10/lib/python3.10/site-packages (from pyglyph) (1.22.3)\n",
      "Requirement already satisfied: pyyaml in /Library/Frameworks/Python.framework/Versions/3.10/lib/python3.10/site-packages (from pyglyph) (6.0)\n",
      "Requirement already satisfied: matplotlib in /Library/Frameworks/Python.framework/Versions/3.10/lib/python3.10/site-packages (from pyglyph) (3.5.1)\n",
      "Requirement already satisfied: cache.py==0.1.3 in /Library/Frameworks/Python.framework/Versions/3.10/lib/python3.10/site-packages (from pyglyph) (0.1.3)\n",
      "Requirement already satisfied: scipy in /Library/Frameworks/Python.framework/Versions/3.10/lib/python3.10/site-packages (from pyglyph) (1.8.0)\n",
      "Requirement already satisfied: sympy in /Library/Frameworks/Python.framework/Versions/3.10/lib/python3.10/site-packages (from pyglyph) (1.10)\n",
      "Requirement already satisfied: pyzmq in /Library/Frameworks/Python.framework/Versions/3.10/lib/python3.10/site-packages (from pyglyph) (22.3.0)\n",
      "Requirement already satisfied: sqlitedict in /Library/Frameworks/Python.framework/Versions/3.10/lib/python3.10/site-packages (from cache.py==0.1.3->pyglyph) (2.0.0)\n",
      "Requirement already satisfied: joblib in /Library/Frameworks/Python.framework/Versions/3.10/lib/python3.10/site-packages (from cache.py==0.1.3->pyglyph) (1.1.0)\n",
      "Requirement already satisfied: wrapt<2,>=1.10 in /Library/Frameworks/Python.framework/Versions/3.10/lib/python3.10/site-packages (from deprecated->pyglyph) (1.14.0)\n",
      "Requirement already satisfied: kiwisolver>=1.0.1 in /Library/Frameworks/Python.framework/Versions/3.10/lib/python3.10/site-packages (from matplotlib->pyglyph) (1.3.2)\n",
      "Requirement already satisfied: packaging>=20.0 in /Library/Frameworks/Python.framework/Versions/3.10/lib/python3.10/site-packages (from matplotlib->pyglyph) (21.3)\n",
      "Requirement already satisfied: pillow>=6.2.0 in /Library/Frameworks/Python.framework/Versions/3.10/lib/python3.10/site-packages (from matplotlib->pyglyph) (9.0.1)\n",
      "Requirement already satisfied: python-dateutil>=2.7 in /Library/Frameworks/Python.framework/Versions/3.10/lib/python3.10/site-packages (from matplotlib->pyglyph) (2.8.2)\n",
      "Requirement already satisfied: pyparsing>=2.2.1 in /Library/Frameworks/Python.framework/Versions/3.10/lib/python3.10/site-packages (from matplotlib->pyglyph) (3.0.7)\n",
      "Requirement already satisfied: fonttools>=4.22.0 in /Library/Frameworks/Python.framework/Versions/3.10/lib/python3.10/site-packages (from matplotlib->pyglyph) (4.30.0)\n",
      "Requirement already satisfied: cycler>=0.10 in /Library/Frameworks/Python.framework/Versions/3.10/lib/python3.10/site-packages (from matplotlib->pyglyph) (0.11.0)\n",
      "Requirement already satisfied: mpmath>=0.19 in /Library/Frameworks/Python.framework/Versions/3.10/lib/python3.10/site-packages (from sympy->pyglyph) (1.2.1)\n",
      "Requirement already satisfied: six>=1.5 in /Library/Frameworks/Python.framework/Versions/3.10/lib/python3.10/site-packages (from python-dateutil>=2.7->matplotlib->pyglyph) (1.16.0)\n",
      "\u001b[33mWARNING: You are using pip version 22.0.4; however, version 22.1.1 is available.\n",
      "You should consider upgrading via the '/Library/Frameworks/Python.framework/Versions/3.10/bin/python3.10 -m pip install --upgrade pip' command.\u001b[0m\u001b[33m\n",
      "\u001b[0mRequirement already satisfied: deap in /Library/Frameworks/Python.framework/Versions/3.10/lib/python3.10/site-packages (1.3.1)\n",
      "Requirement already satisfied: numpy in /Library/Frameworks/Python.framework/Versions/3.10/lib/python3.10/site-packages (from deap) (1.22.3)\n",
      "\u001b[33mWARNING: You are using pip version 22.0.4; however, version 22.1.1 is available.\n",
      "You should consider upgrading via the '/Library/Frameworks/Python.framework/Versions/3.10/bin/python3.10 -m pip install --upgrade pip' command.\u001b[0m\u001b[33m\n",
      "\u001b[0mRequirement already satisfied: graphviz in /Library/Frameworks/Python.framework/Versions/3.10/lib/python3.10/site-packages (0.19.1)\n",
      "\u001b[33mWARNING: You are using pip version 22.0.4; however, version 22.1.1 is available.\n",
      "You should consider upgrading via the '/Library/Frameworks/Python.framework/Versions/3.10/bin/python3.10 -m pip install --upgrade pip' command.\u001b[0m\u001b[33m\n",
      "\u001b[0m"
     ]
    }
   ],
   "source": [
    "!pip install pyglyph\n",
    "!pip install deap\n",
    "!pip install graphviz\n",
    "import neo_hook_model"
   ]
  },
  {
   "cell_type": "code",
   "execution_count": 20,
   "metadata": {},
   "outputs": [],
   "source": [
    "from functools import partial\n",
    "\n",
    "import deap.gp\n",
    "import deap.tools\n",
    "import numpy as np\n",
    "import sympy\n",
    "from sympy import *\n",
    "from glyph import gp\n",
    "from glyph.assessment import const_opt\n",
    "from glyph.utils import Memoize\n",
    "from glyph.utils.numeric import nrmse,rmse, silent_numpy\n",
    "import random\n",
    "\n",
    "\n",
    "\n",
    "pset = gp.numpy_primitive_set(arity=1,categories=(\"algebraic\",\"symc\"))\n",
    "Individual = gp.Individual(pset=pset)\n",
    "s_target = neo_hook_model.sigma(e = np.linspace(1,4,1000),mu = 1.49*10**9)\n",
    "e = np.linspace(1,4,1000)\n",
    "\n",
    "def error(ind, *args):\n",
    "    f = gp.individual.numpy_phenotype(ind)\n",
    "    y = s_target\n",
    "    yhat = f(e, *args) \n",
    "    \n",
    "    if np.isscalar(yhat):\n",
    "        yhat = np.ones_like(y) * yhat\n",
    "        \n",
    "    return nrmse(y,yhat)\n",
    "\n",
    "@Memoize\n",
    "def measure(ind):\n",
    "    popt, err_opr = const_opt(error, ind)\n",
    "    ind.popt = popt\n",
    "    return err_opr, len(ind)\n",
    "\n",
    "\n",
    "def update_fitness(population, map=map):\n",
    "    invalid = [p for p in population if not p.fitness.valid]\n",
    "    fitnesses = map(measure, invalid)\n",
    "    for ind, fit in zip(invalid, fitnesses):\n",
    "        ind.fitness.values = fit\n",
    "    return population"
   ]
  },
  {
   "cell_type": "code",
   "execution_count": 21,
   "metadata": {},
   "outputs": [
    {
     "name": "stdout",
     "output_type": "stream",
     "text": [
      "-x_0*(Symc + x_0)*(2*Symc + zoo)*(Symc + x_0 - (Symc - x_0)*(Symc + x_0) + 1) (0.5010096700252937, 37.0)\n",
      "zoo*(x_0**2 + 1)*(Symc*x_0 + Symc + x_0) (0.4969294695872947, 31.0)\n",
      "-x_0*(x_0**2 + 1)*(Symc*x_0 + Symc + x_0)/(Symc*(Symc - 1)) (0.012644813492383973, 37.0)\n",
      "-x_0*(x_0**2 + 1)*(Symc*x_0 + Symc + x_0)/(Symc*(Symc - 1)) (0.012644813492383973, 37.0)\n",
      "-(Symc + x_0**3)*(Symc*x_0 + Symc + x_0)/(Symc*(Symc - 1)) (0.01253109375517365, 37.0)\n",
      "-(Symc + x_0**3)*(Symc*x_0 + Symc + x_0)/(Symc*(Symc - 1)) (0.01253109375517365, 37.0)\n",
      "-(x_0 + 1)*(Symc*x_0 + Symc + x_0)/(Symc - 1) (0.012441664525360253, 35.0)\n",
      "-(Symc + 2*x_0)*(x_0 + 1)/(Symc - 1) (0.012090626426751258, 33.0)\n",
      "-(Symc + 2*x_0)*(x_0 + 1)/(Symc - 1) (0.012090626426751258, 33.0)\n",
      "-(Symc + 2*x_0)*(x_0 + 1)/(Symc - 1) (0.012090626426751258, 33.0)\n",
      "-(Symc + 2*x_0)*(x_0 + 1)/(Symc - 1) (0.012090626426751258, 33.0)\n",
      "-(Symc + 2*x_0)*(x_0 + 1)/(Symc - 1) (0.012090626426751258, 33.0)\n",
      "-(Symc + x_0)*(2*Symc + x_0)/(Symc*(Symc - 1)) (0.00980697790276762, 31.0)\n",
      "-(Symc + x_0)*(2*Symc + x_0)/(Symc*(Symc - 1)) (0.00980697790276762, 31.0)\n",
      "-(2*Symc + x_0)*(x_0 + 1)/(Symc*(Symc - 1)) (0.007055780556279557, 29.0)\n",
      "-(2*Symc + x_0)*(x_0 + 1)/(Symc*(Symc - 1)) (0.007055780556279557, 29.0)\n",
      "-(2*Symc + x_0)*(x_0 + 1)/(Symc*(Symc - 1)) (0.007055780556279557, 29.0)\n",
      "-(2*Symc + x_0)*(x_0 + 1)/(Symc*(Symc - 1)) (0.007055780556279557, 29.0)\n",
      "-(2*Symc + x_0)*(x_0 + 1)/(Symc*(Symc - 1)) (0.007055780556279557, 29.0)\n",
      "-(2*Symc + x_0)*(x_0 + 1)/(Symc*(Symc - 1)) (0.007055780556279557, 29.0)\n",
      "-(2*Symc + x_0)*(x_0 + 1)/(Symc*(Symc - 1)) (0.007055780556279557, 29.0)\n",
      "-(2*Symc + x_0)*(Symc + x_0**2 + x_0)/(Symc*x_0*(Symc - 1)) (0.00677622714915642, 43.0)\n",
      "-(x_0 + 1)*(2*Symc + x_0 - 1)/(Symc*(Symc - 1)) (0.00613481775248029, 33.0)\n",
      "-(4*Symc + x_0)*(x_0 + 1)/(Symc*(Symc - 1)) (0.005964538943807082, 33.0)\n",
      "(2*Symc + x_0)*(Symc*(Symc - 1) - x_0)/(Symc*(Symc - 1)) (0.004981285124501146, 37.0)\n",
      "(2*Symc + x_0)*(Symc*(Symc - 1) - x_0)/(Symc*(Symc - 1)) (0.004981285124501146, 37.0)\n",
      "(2*Symc + x_0)*(Symc*(Symc - 1) - x_0)/(Symc*(Symc - 1)) (0.004981285124501146, 37.0)\n",
      "(Symc**2*(Symc - 1) - 4*x_0*(Symc + x_0)*(x_0**3 - (Symc - 1)*(Symc + 1)*(Symc*x_0 + Symc + x_0)))/(x_0*(Symc - 1)) (0.004662716381321175, 55.0)\n",
      "(Symc**2*(Symc - 1) + 4*x_0*(Symc + x_0)*(2*Symc*(Symc - 1)*(Symc*x_0 + Symc + x_0) - x_0**3))/(x_0*(Symc - 1)) (0.003398890363044051, 53.0)\n",
      "(Symc**2*(Symc - 1) + 4*(Symc + x_0)*(2*Symc*(Symc - 1)*(Symc*x_0 + Symc + x_0) - x_0**3))/(Symc - 1) (0.0018894891252597835, 51.0)\n"
     ]
    }
   ],
   "source": [
    "pop_size = 500\n",
    "\n",
    "mate = deap.gp.cxOnePoint\n",
    "expr_mut = partial(deap.gp.genFull, min_=1, max_=4)\n",
    "mutate = partial(deap.gp.mutUniform, expr=expr_mut, pset=Individual.pset)\n",
    "algorithm = gp.algorithms.AgeFitness(mate, mutate, deap.tools.selNSGA2, Individual.create_population)\n",
    "\n",
    "pop = update_fitness(Individual.create_population(pop_size))\n",
    "for gen in range(30):\n",
    "    pop = algorithm.evolve(pop)\n",
    "    pop = update_fitness(pop)\n",
    "    best = deap.tools.selBest(pop, 1)[0]\n",
    "    print(gp.individual.simplify_this(best), best.fitness.values)\n",
    "    "
   ]
  },
  {
   "cell_type": "code",
   "execution_count": 22,
   "metadata": {},
   "outputs": [
    {
     "data": {
      "text/latex": [
       "$\\displaystyle \\frac{Symc^{2} \\left(Symc - 1\\right) + \\left(4 Symc + 4 x_{0}\\right) \\left(2 Symc \\left(Symc - 1\\right) \\left(Symc x_{0} + Symc + x_{0}\\right) - x_{0}^{3}\\right)}{Symc - 1}$"
      ],
      "text/plain": [
       "(Symc**2*(Symc - 1) + (4*Symc + 4*x_0)*(2*Symc*(Symc - 1)*(Symc*x_0 + Symc + x_0) - x_0**3))/(Symc - 1)"
      ]
     },
     "execution_count": 22,
     "metadata": {},
     "output_type": "execute_result"
    }
   ],
   "source": [
    "from sympy import *\n",
    "from sympy import sympify\n",
    "import pickle\n",
    "\n",
    "x, y, z, t = symbols('x y z t')\n",
    "locals = {\n",
    "  \"Add\": Add,\n",
    "  \"Mul\": Mul,\n",
    "  \"Sub\": Lambda((x, y), x - y),\n",
    "  \"Div\": Lambda((x, y), x/y),\n",
    "  \"Sqrt\":Lambda(x,sqrt(x)),\n",
    "  \"Exp\": Lambda(x,exp(x)),\n",
    "  \"Neg\": Lambda(x, -x),\n",
    "  \"log\": Lambda(x,log(x))\n",
    "}\n",
    "#all_best = deap.tools.selBest(pop, 25)\n",
    "#print(all_best)\n",
    "sympify(str(gp.individual.simplify_this(best)),locals=locals)\n",
    "#for element in all_best:\n",
    "  #print(sympify(str(gp.individual.simplify_this(element)),locals=locals)) \n",
    "  #sympify(str(gp.individual.simplify_this(best)),locals=locals) #FINAL RESULT"
   ]
  },
  {
   "cell_type": "code",
   "execution_count": 23,
   "metadata": {},
   "outputs": [],
   "source": [
    "from sympy import *\n",
    "from sympy import sympify\n",
    "import pickle\n",
    "with open('best_mechanics_1_Layer_up_to_date_wo_exp.pkl', 'wb') as outp:\n",
    "    pickle.dump(best, outp, pickle.HIGHEST_PROTOCOL)\n",
    "popt,_=const_opt(error, best)\n",
    "f = open(\"./results_best_mechanics_1_Layer_1.txt\", \"a\")\n",
    "f.write(f\"best_mechanics_1_Layer_up_to_date_wo_exp\\n\\n{best}\\n\\n fitness and length : {best.fitness.values}\\n - constant optimization : {popt} \")\n",
    "f.close()"
   ]
  },
  {
   "cell_type": "code",
   "execution_count": 24,
   "metadata": {},
   "outputs": [
    {
     "data": {
      "text/plain": [
       "Text(0, 0.5, 's')"
      ]
     },
     "execution_count": 24,
     "metadata": {},
     "output_type": "execute_result"
    },
    {
     "data": {
      "image/png": "[encoded data removed]",
      "text/plain": [
       "<Figure size 432x288 with 1 Axes>"
      ]
     },
     "metadata": {
      "needs_background": "light"
     },
     "output_type": "display_data"
    }
   ],
   "source": [
    "\n",
    "import pickle\n",
    "import matplotlib.pyplot as plt\n",
    "#\n",
    "\n",
    "f = gp.individual.numpy_phenotype(best)\n",
    "\n",
    "popt,_=const_opt(error, best) \n",
    "s_rs = f(e,*popt)\n",
    "\n",
    "plt.title('orange real data vs glyph in blue')\n",
    "plt.plot(e,s_target)\n",
    "plt.plot(e,s_rs)\n",
    "plt.xlabel('e')\n",
    "plt.ylabel('s')"
   ]
  }
 ],
 "metadata": {
  "interpreter": {
   "hash": "397704579725e15f5c7cb49fe5f0341eb7531c82d19f2c29d197e8b64ab5776b"
  },
  "kernelspec": {
   "display_name": "Python 3.9.1 64-bit",
   "language": "python",
   "name": "python3"
  },
  "language_info": {
   "codemirror_mode": {
    "name": "ipython",
    "version": 3
   },
   "file_extension": ".py",
   "mimetype": "text/x-python",
   "name": "python",
   "nbconvert_exporter": "python",
   "pygments_lexer": "ipython3",
   "version": "3.9.1"
  },
  "orig_nbformat": 4
 },
 "nbformat": 4,
 "nbformat_minor": 2
}
